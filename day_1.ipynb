{
 "cells": [
  {
   "attachments": {},
   "cell_type": "markdown",
   "metadata": {},
   "source": [
    "### Exercise .5\n",
    "\n",
    "Testing out the \"print\" function with strings"
   ]
  },
  {
   "cell_type": "code",
   "execution_count": 3,
   "metadata": {},
   "outputs": [
    {
     "name": "stdout",
     "output_type": "stream",
     "text": [
      "Hello, World!\n"
     ]
    }
   ],
   "source": [
    "print(\"Hello, World!\")"
   ]
  },
  {
   "attachments": {},
   "cell_type": "markdown",
   "metadata": {},
   "source": [
    "### Exercise 1\n",
    "\n",
    "Meant to be done in codingrooms.com  \n",
    "I did it there and forgot to save the prompt, so this may not make sense"
   ]
  },
  {
   "cell_type": "code",
   "execution_count": null,
   "metadata": {},
   "outputs": [],
   "source": [
    "print(\"\"\"Day 1 - Python Print Function\n",
    "The function is declared like this:\n",
    "print('what to print')\"\"\")"
   ]
  },
  {
   "attachments": {},
   "cell_type": "markdown",
   "metadata": {},
   "source": [
    "### Exercise 2"
   ]
  },
  {
   "cell_type": "code",
   "execution_count": 4,
   "metadata": {},
   "outputs": [
    {
     "name": "stdout",
     "output_type": "stream",
     "text": [
      "Day 1 - String Manipulation\n",
      "String Concatenation is done with the \"+\" sign.\n",
      "e.g. print(\"Hello \" + \"world\")\n",
      "New lines can be created with a backslash and n.\n"
     ]
    }
   ],
   "source": [
    "#Fix the code below 👇\n",
    "\n",
    "print(\"Day 1 - String Manipulation\")\n",
    "print('String Concatenation is done with the \"+\" sign.')\n",
    "print('e.g. print(\"Hello \" + \"world\")')\n",
    "print(\"New lines can be created with a backslash and n.\")"
   ]
  },
  {
   "attachments": {},
   "cell_type": "markdown",
   "metadata": {},
   "source": [
    "### Exercise 3\n",
    "\n",
    "Write a program that prints the number of characters in a user's name. You might need to Google for a function that calculates the length of a string."
   ]
  },
  {
   "cell_type": "code",
   "execution_count": 5,
   "metadata": {},
   "outputs": [
    {
     "name": "stdout",
     "output_type": "stream",
     "text": [
      "5\n"
     ]
    }
   ],
   "source": [
    "print(len(input(\"What is your name? \")))"
   ]
  },
  {
   "attachments": {},
   "cell_type": "markdown",
   "metadata": {},
   "source": [
    "### Exercise 4\n",
    "Write a program that switches the values stored in the variables a and b."
   ]
  },
  {
   "cell_type": "code",
   "execution_count": 6,
   "metadata": {},
   "outputs": [
    {
     "name": "stdout",
     "output_type": "stream",
     "text": [
      "a: 6\n",
      "b: 5\n"
     ]
    }
   ],
   "source": [
    "# 🚨 Don't change the code below 👇\n",
    "a = input(\"a: \")\n",
    "b = input(\"b: \")\n",
    "# 🚨 Don't change the code above 👆\n",
    "\n",
    "####################################\n",
    "#Write your code below this line 👇\n",
    "\n",
    "a,b = b,a\n",
    "\n",
    "\n",
    "#Write your code above this line 👆\n",
    "####################################\n",
    "\n",
    "# 🚨 Don't change the code below 👇\n",
    "print(\"a: \" + a)\n",
    "print(\"b: \" + b)"
   ]
  },
  {
   "attachments": {},
   "cell_type": "markdown",
   "metadata": {},
   "source": [
    "### Day 1 Project: Band Name Generator"
   ]
  },
  {
   "cell_type": "code",
   "execution_count": 7,
   "metadata": {},
   "outputs": [
    {
     "name": "stdout",
     "output_type": "stream",
     "text": [
      "Olá! Criarei um nome de banda para você!\n",
      "O nome da sua banda pode ser 'Zelda de São Paulo'!\n"
     ]
    }
   ],
   "source": [
    "#1. Create a greeting for your program.\n",
    "print(\"Olá! Criarei um nome de banda para você!\")\n",
    "#2. Ask the user for the city that they grew up in.\n",
    "cidade = input(\"Em que cidade você nasceu?\\n\")\n",
    "#3. Ask the user for the name of a pet.\n",
    "animal = input(\n",
    "    \"Dê o nome de um animal de estimação seu (ou que você conheça)\\n\")\n",
    "#4. Combine the name of their city and pet and show them their band name.\n",
    "print(f\"O nome da sua banda pode ser '{animal} de {cidade}'!\")\n",
    "#5. Make sure the input cursor shows on a new line:\n",
    "\n",
    "# Solution: https://replit.com/@appbrewery/band-name-generator-end"
   ]
  }
 ],
 "metadata": {
  "kernelspec": {
   "display_name": "Python 3",
   "language": "python",
   "name": "python3"
  },
  "language_info": {
   "codemirror_mode": {
    "name": "ipython",
    "version": 3
   },
   "file_extension": ".py",
   "mimetype": "text/x-python",
   "name": "python",
   "nbconvert_exporter": "python",
   "pygments_lexer": "ipython3",
   "version": "3.11.0"
  },
  "orig_nbformat": 4
 },
 "nbformat": 4,
 "nbformat_minor": 2
}
