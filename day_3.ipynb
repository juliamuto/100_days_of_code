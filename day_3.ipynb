{
 "cells": [
  {
   "attachments": {},
   "cell_type": "markdown",
   "metadata": {},
   "source": [
    "### Exercise 1: Odd or Even"
   ]
  },
  {
   "cell_type": "code",
   "execution_count": null,
   "metadata": {},
   "outputs": [],
   "source": [
    "# 🚨 Don't change the code below 👇\n",
    "number = int(input(\"Which number do you want to check? \"))\n",
    "# 🚨 Don't change the code above 👆\n",
    "\n",
    "#Write your code below this line 👇\n",
    "if number % 2 == 0:\n",
    "    print(\"This is an even number.\")\n",
    "\n",
    "else:\n",
    "    print(\"This is an odd number.\")"
   ]
  },
  {
   "attachments": {},
   "cell_type": "markdown",
   "metadata": {},
   "source": [
    "### Exercise 2: BMI 2.0"
   ]
  },
  {
   "cell_type": "code",
   "execution_count": null,
   "metadata": {},
   "outputs": [],
   "source": [
    "# 🚨 Don't change the code below 👇\n",
    "height = float(input(\"enter your height in m: \"))\n",
    "weight = float(input(\"enter your weight in kg: \"))\n",
    "# 🚨 Don't change the code above 👆\n",
    "\n",
    "#Write your code below this line 👇\n",
    "bmi = round(weight / (height**2))\n",
    "if bmi < 18.5:\n",
    "    print(f\"Your BMI is {bmi}, you are underweight.\")\n",
    "elif bmi < 25:\n",
    "    print(f\"Your BMI is {bmi}, you have a normal weight.\")\n",
    "elif bmi < 30:\n",
    "    print(f\"Your BMI is {bmi}, you are slightly overweight.\")\n",
    "elif bmi < 35:\n",
    "    print(f\"Your BMI is {bmi}, you are obese.\")\n",
    "else:\n",
    "    print(f\"Your BMI is {bmi}, you are clinically obese.\")"
   ]
  },
  {
   "attachments": {},
   "cell_type": "markdown",
   "metadata": {},
   "source": [
    "### Exercise 3: Leap Year"
   ]
  },
  {
   "cell_type": "code",
   "execution_count": null,
   "metadata": {},
   "outputs": [],
   "source": [
    "# 🚨 Don't change the code below 👇\n",
    "year = int(input(\"Which year do you want to check? \"))\n",
    "# 🚨 Don't change the code above 👆\n",
    "\n",
    "#Write your code below this line 👇\n",
    "\n",
    "if year % 4 == 0:\n",
    "    if year % 100 == 0 and year % 400 != 0:\n",
    "        print(\"Not leap year.\")\n",
    "    else:\n",
    "        print(\"Leap year.\")\n",
    "else:\n",
    "    print(\"Not leap year\")"
   ]
  },
  {
   "attachments": {},
   "cell_type": "markdown",
   "metadata": {},
   "source": [
    "### Exercise 4: Pizza order practice"
   ]
  },
  {
   "cell_type": "code",
   "execution_count": null,
   "metadata": {},
   "outputs": [],
   "source": [
    "# 🚨 Don't change the code below 👇\n",
    "print(\"Welcome to Python Pizza Deliveries!\")\n",
    "size = input(\"What size pizza do you want? S, M, or L \")\n",
    "add_pepperoni = input(\"Do you want pepperoni? Y or N \")\n",
    "extra_cheese = input(\"Do you want extra cheese? Y or N \")\n",
    "# 🚨 Don't change the code above 👆\n",
    "\n",
    "#Write your code below this line 👇\n",
    "bill = 0\n",
    "if size == \"S\":\n",
    "    bill = 15\n",
    "    if add_pepperoni == \"Y\":\n",
    "        bill += 2\n",
    "elif size == \"M\":\n",
    "    bill = 20\n",
    "    if add_pepperoni == \"Y\":\n",
    "        bill += 3\n",
    "else:\n",
    "    bill = 25\n",
    "    if add_pepperoni == \"Y\":\n",
    "        bill += 3\n",
    "if extra_cheese == \"Y\":\n",
    "    bill += 1\n",
    "\n",
    "print(f\"Your final bill is: ${bill}.\")"
   ]
  },
  {
   "attachments": {},
   "cell_type": "markdown",
   "metadata": {},
   "source": [
    "### Exercise 5: Love calculator"
   ]
  },
  {
   "cell_type": "code",
   "execution_count": null,
   "metadata": {},
   "outputs": [],
   "source": [
    "# 🚨 Don't change the code below 👇\n",
    "print(\"Welcome to the Love Calculator!\")\n",
    "name1 = input(\"What is your name? \\n\")\n",
    "name2 = input(\"What is their name? \\n\")\n",
    "# 🚨 Don't change the code above 👆\n",
    "\n",
    "#Write your code below this line 👇\n",
    "true = 0\n",
    "name1_lower = name1.lower()\n",
    "name2_lower = name2.lower()\n",
    "true += name1_lower.count(\"t\")\n",
    "true += name2_lower.count(\"t\")\n",
    "true += name1_lower.count(\"r\")\n",
    "true += name2_lower.count(\"r\")\n",
    "true += name1_lower.count(\"u\")\n",
    "true += name2_lower.count(\"u\")\n",
    "true += name1_lower.count(\"e\")\n",
    "true += name2_lower.count(\"e\")\n",
    "\n",
    "true *= 10\n",
    "\n",
    "love = 0\n",
    "\n",
    "love += name1_lower.count(\"l\")\n",
    "love += name2_lower.count(\"l\")\n",
    "love += name1_lower.count(\"o\")\n",
    "love += name2_lower.count(\"o\")\n",
    "love += name1_lower.count(\"v\")\n",
    "love += name2_lower.count(\"v\")\n",
    "love += name1_lower.count(\"e\")\n",
    "love += name2_lower.count(\"e\")\n",
    "\n",
    "true_love = true + love\n",
    "\n",
    "if true_love < 10 or true_love > 90:\n",
    "    print(f\"Your score is {true_love}, you go together like coke and mentos.\")\n",
    "elif 40 < true_love < 50:\n",
    "    print(f\"Your score is {true_love}, you are alright together.\")\n",
    "else:\n",
    "    print(f\"Your score is {true_love}.\")"
   ]
  },
  {
   "cell_type": "code",
   "execution_count": null,
   "metadata": {},
   "outputs": [],
   "source": [
    "# versão simplificada"
   ]
  },
  {
   "cell_type": "code",
   "execution_count": null,
   "metadata": {},
   "outputs": [],
   "source": [
    "# 🚨 Don't change the code below 👇\n",
    "print(\"Welcome to the Love Calculator!\")\n",
    "name1 = input(\"What is your name? \\n\")\n",
    "name2 = input(\"What is their name? \\n\")\n",
    "# 🚨 Don't change the code above 👆\n",
    "\n",
    "#Write your code below this line 👇\n",
    "true = 0\n",
    "name1_lower = name1.lower()\n",
    "name2_lower = name2.lower()\n",
    "\n",
    "for letter in \"true\":\n",
    "    true += name1_lower.count(letter)\n",
    "    true += name2_lower.count(letter)\n",
    "\n",
    "true *= 10\n",
    "\n",
    "love = 0\n",
    "\n",
    "for letter in \"love\":\n",
    "    love += name1_lower.count(letter)\n",
    "    love += name2_lower.count(letter)\n",
    "\n",
    "true_love = true + love\n",
    "\n",
    "if true_love < 10 or true_love > 90:\n",
    "    print(f\"Your score is {true_love}, you go together like coke and mentos.\")\n",
    "elif 40 < true_love < 50:\n",
    "    print(f\"Your score is {true_love}, you are alright together.\")\n",
    "else:\n",
    "    print(f\"Your score is {true_love}.\")\n"
   ]
  },
  {
   "attachments": {},
   "cell_type": "markdown",
   "metadata": {},
   "source": [
    "### Day 3 Project: Treasure Island"
   ]
  },
  {
   "cell_type": "code",
   "execution_count": null,
   "metadata": {},
   "outputs": [],
   "source": [
    "print('''\n",
    "*******************************************************************************\n",
    "          |                   |                  |                     |\n",
    " _________|________________.=\"\"_;=.______________|_____________________|_______\n",
    "|                   |  ,-\"_,=\"\"     `\"=.|                  |\n",
    "|___________________|__\"=._o`\"-._        `\"=.______________|___________________\n",
    "          |                `\"=._o`\"=._      _`\"=._                     |\n",
    " _________|_____________________:=._o \"=._.\"_.-=\"'\"=.__________________|_______\n",
    "|                   |    __.--\" , ; `\"=._o.\" ,-\"\"\"-._ \".   |\n",
    "|___________________|_._\"  ,. .` ` `` ,  `\"-._\"-._   \". '__|___________________\n",
    "          |           |o`\"=._` , \"` `; .\". ,  \"-._\"-._; ;              |\n",
    " _________|___________| ;`-.o`\"=._; .\" ` '`.\"\\` . \"-._ /_______________|_______\n",
    "|                   | |o;    `\"-.o`\"=._``  '` \" ,__.--o;   |\n",
    "|___________________|_| ;     (#) `-.o `\"=.`_.--\"_o.-; ;___|___________________\n",
    "____/______/______/___|o;._    \"      `\".o|o_.--\"    ;o;____/______/______/____\n",
    "/______/______/______/_\"=._o--._        ; | ;        ; ;/______/______/______/_\n",
    "____/______/______/______/__\"=._o--._   ;o|o;     _._;o;____/______/______/____\n",
    "/______/______/______/______/____\"=._o._; | ;_.--\"o.--\"_/______/______/______/_\n",
    "____/______/______/______/______/_____\"=.o|o_.--\"\"___/______/______/______/____\n",
    "/______/______/______/______/______/______/______/______/______/______/_____ /\n",
    "*******************************************************************************\n",
    "''')\n",
    "print(\"Welcome to Treasure Island.\")\n",
    "print(\"Your mission is to find the treasure.\") \n",
    "\n",
    "#https://www.draw.io/?lightbox=1&highlight=0000ff&edit=_blank&layers=1&nav=1&title=Treasure%20Island%20Conditional.drawio#Uhttps%3A%2F%2Fdrive.google.com%2Fuc%3Fid%3D1oDe4ehjWZipYRsVfeAx2HyB7LCQ8_Fvi%26export%3Ddownload\n",
    "\n",
    "#Write your code below this line 👇\n",
    "\n",
    "choice_1 = input(\"You find a fork on the road. Which path do you take, left or right? \")\n",
    "\n",
    "if choice_1.lower() == \"right\":\n",
    "  print(\"You walk along the path and fall down a hole. Game over.\")\n",
    "else:\n",
    "  choice_2 = input(\"You find a lake with an island in the middle. You can swim across or wait for a boat. \")\n",
    "  if choice_2.lower() == \"swim\":\n",
    "    print(\"There are piranhas in the water! Game over.\")\n",
    "  else:\n",
    "    choice_3 = input(\"A boat comes by and takes you to the island. You find a small castle with three doors. Which door do you pick, red, yellow or blue? \")\n",
    "    if choice_3.lower() == \"red\":\n",
    "      print(\"You found the treasure!\")\n",
    "    else:\n",
    "      print(\"The door has a goat. Game over.\")\n",
    "      print('''(_(\n",
    "/_/'_____/)\n",
    "|      |\n",
    "|\"\"\"\"\"\"|''')\n"
   ]
  }
 ],
 "metadata": {
  "language_info": {
   "name": "python"
  },
  "orig_nbformat": 4
 },
 "nbformat": 4,
 "nbformat_minor": 2
}
