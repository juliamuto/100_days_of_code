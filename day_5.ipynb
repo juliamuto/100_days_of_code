{
 "cells": [
  {
   "attachments": {},
   "cell_type": "markdown",
   "metadata": {},
   "source": [
    "# Python Loops"
   ]
  },
  {
   "attachments": {},
   "cell_type": "markdown",
   "metadata": {},
   "source": [
    "### Exercise 1: Average Height"
   ]
  },
  {
   "cell_type": "code",
   "execution_count": null,
   "metadata": {},
   "outputs": [],
   "source": [
    "#without sum or len\n",
    "# 🚨 Don't change the code below 👇\n",
    "student_heights = input(\"Input a list of student heights \").split()\n",
    "for n in range(0, len(student_heights)):\n",
    "  student_heights[n] = int(student_heights[n])\n",
    "# 🚨 Don't change the code above 👆\n",
    "\n",
    "#Write your code below this row 👇\n",
    "sum = 0\n",
    "number = 0\n",
    "\n",
    "for height in student_heights:\n",
    "    sum += height\n",
    "    number += 1\n",
    "    \n",
    "average = round(sum/number)\n",
    "\n",
    "print(average)"
   ]
  },
  {
   "attachments": {},
   "cell_type": "markdown",
   "metadata": {},
   "source": [
    "### Exercise 2: High Score"
   ]
  },
  {
   "cell_type": "code",
   "execution_count": null,
   "metadata": {},
   "outputs": [],
   "source": [
    "# without max()\n",
    "# 🚨 Don't change the code below 👇\n",
    "student_scores = input(\"Input a list of student scores \").split()\n",
    "for n in range(0, len(student_scores)):\n",
    "  student_scores[n] = int(student_scores[n])\n",
    "print(student_scores)\n",
    "# 🚨 Don't change the code above 👆\n",
    "\n",
    "#Write your code below this row 👇\n",
    "highest_score = 0\n",
    "\n",
    "for score in student_scores:\n",
    "    if score > highest_score:\n",
    "        highest_score = score\n",
    "        \n",
    "print(\"The highest score in the class is:\", highest_score)"
   ]
  },
  {
   "attachments": {},
   "cell_type": "markdown",
   "metadata": {},
   "source": [
    "### Exercise 3: Adding Even Numbers"
   ]
  },
  {
   "cell_type": "code",
   "execution_count": 1,
   "metadata": {},
   "outputs": [
    {
     "name": "stdout",
     "output_type": "stream",
     "text": [
      "2550\n"
     ]
    }
   ],
   "source": [
    "sum = 0\n",
    "for number in range(1, 101):\n",
    "    if number % 2 == 0:\n",
    "        sum += number\n",
    "        \n",
    "print(sum)"
   ]
  },
  {
   "cell_type": "code",
   "execution_count": 3,
   "metadata": {},
   "outputs": [
    {
     "name": "stdout",
     "output_type": "stream",
     "text": [
      "2550\n"
     ]
    }
   ],
   "source": [
    "#alternative\n",
    "sum = 0\n",
    "for num in range(2, 101, 2):\n",
    "    sum += num\n",
    "print(sum)"
   ]
  },
  {
   "attachments": {},
   "cell_type": "markdown",
   "metadata": {},
   "source": [
    "### Exercise 4: FizzBuzz"
   ]
  },
  {
   "cell_type": "code",
   "execution_count": 4,
   "metadata": {},
   "outputs": [
    {
     "name": "stdout",
     "output_type": "stream",
     "text": [
      "1\n",
      "2\n",
      "Fizz\n",
      "4\n",
      "Buzz\n",
      "Fizz\n",
      "7\n",
      "8\n",
      "Fizz\n",
      "Buzz\n",
      "11\n",
      "Fizz\n",
      "13\n",
      "14\n",
      "FizzBuzz\n",
      "16\n",
      "17\n",
      "Fizz\n",
      "19\n",
      "Buzz\n",
      "Fizz\n",
      "22\n",
      "23\n",
      "Fizz\n",
      "Buzz\n",
      "26\n",
      "Fizz\n",
      "28\n",
      "29\n",
      "FizzBuzz\n",
      "31\n",
      "32\n",
      "Fizz\n",
      "34\n",
      "Buzz\n",
      "Fizz\n",
      "37\n",
      "38\n",
      "Fizz\n",
      "Buzz\n",
      "41\n",
      "Fizz\n",
      "43\n",
      "44\n",
      "FizzBuzz\n",
      "46\n",
      "47\n",
      "Fizz\n",
      "49\n",
      "Buzz\n",
      "Fizz\n",
      "52\n",
      "53\n",
      "Fizz\n",
      "Buzz\n",
      "56\n",
      "Fizz\n",
      "58\n",
      "59\n",
      "FizzBuzz\n",
      "61\n",
      "62\n",
      "Fizz\n",
      "64\n",
      "Buzz\n",
      "Fizz\n",
      "67\n",
      "68\n",
      "Fizz\n",
      "Buzz\n",
      "71\n",
      "Fizz\n",
      "73\n",
      "74\n",
      "FizzBuzz\n",
      "76\n",
      "77\n",
      "Fizz\n",
      "79\n",
      "Buzz\n",
      "Fizz\n",
      "82\n",
      "83\n",
      "Fizz\n",
      "Buzz\n",
      "86\n",
      "Fizz\n",
      "88\n",
      "89\n",
      "FizzBuzz\n",
      "91\n",
      "92\n",
      "Fizz\n",
      "94\n",
      "Buzz\n",
      "Fizz\n",
      "97\n",
      "98\n",
      "Fizz\n",
      "Buzz\n"
     ]
    }
   ],
   "source": [
    "for num in range(1, 101):\n",
    "    if num %3 != 0 and num %5 != 0:\n",
    "        print(num)\n",
    "    elif num %3 == 0 and num %5 != 0:\n",
    "        print(\"Fizz\")\n",
    "    elif num %3 != 0 and num %5 == 0:\n",
    "        print(\"Buzz\")\n",
    "    elif num %3 == 0 and num %5 == 0:\n",
    "        print(\"FizzBuzz\")"
   ]
  },
  {
   "attachments": {},
   "cell_type": "markdown",
   "metadata": {},
   "source": [
    "### Day 5 Project: Password Generator"
   ]
  },
  {
   "cell_type": "code",
   "execution_count": 17,
   "metadata": {},
   "outputs": [
    {
     "name": "stdout",
     "output_type": "stream",
     "text": [
      "Welcome to the PyPassword Generator!\n",
      "*K+9N86**F785#Fxf*\n"
     ]
    }
   ],
   "source": [
    "#Password Generator Project\n",
    "import random\n",
    "letters = ['a', 'b', 'c', 'd', 'e', 'f', 'g', 'h', 'i', 'j', 'k', 'l', 'm', 'n', 'o', 'p', 'q', 'r', 's', 't', 'u', 'v', 'w', 'x', 'y', 'z', 'A', 'B', 'C', 'D', 'E', 'F', 'G', 'H', 'I', 'J', 'K', 'L', 'M', 'N', 'O', 'P', 'Q', 'R', 'S', 'T', 'U', 'V', 'W', 'X', 'Y', 'Z']\n",
    "numbers = ['0', '1', '2', '3', '4', '5', '6', '7', '8', '9']\n",
    "symbols = ['!', '#', '$', '%', '&', '(', ')', '*', '+']\n",
    "\n",
    "print(\"Welcome to the PyPassword Generator!\")\n",
    "nr_letters= int(input(\"How many letters would you like in your password?\\n\")) \n",
    "nr_symbols = int(input(f\"How many symbols would you like?\\n\"))\n",
    "nr_numbers = int(input(f\"How many numbers would you like?\\n\"))\n",
    "\n",
    "#Eazy Level - Order not randomised:\n",
    "#e.g. 4 letter, 2 symbol, 2 number = JduE&!91\n",
    "password = ''\n",
    "for num in range(nr_letters):\n",
    "    password += random.choice(letters)\n",
    "for num in range(nr_symbols):\n",
    "    password += random.choice(symbols)\n",
    "for num in range(nr_numbers):\n",
    "    password += random.choice(numbers)\n",
    "\n",
    "#print(password)\n",
    "\n",
    "#Hard Level - Order of characters randomised:\n",
    "#e.g. 4 letter, 2 symbol, 2 number = g^2jk8&P\n",
    "\n",
    "shuffled_password = ''.join(random.sample(password, len(password)))\n",
    "print(shuffled_password)"
   ]
  }
 ],
 "metadata": {
  "kernelspec": {
   "display_name": "Python 3",
   "language": "python",
   "name": "python3"
  },
  "language_info": {
   "codemirror_mode": {
    "name": "ipython",
    "version": 3
   },
   "file_extension": ".py",
   "mimetype": "text/x-python",
   "name": "python",
   "nbconvert_exporter": "python",
   "pygments_lexer": "ipython3",
   "version": "3.11.0"
  },
  "orig_nbformat": 4
 },
 "nbformat": 4,
 "nbformat_minor": 2
}
